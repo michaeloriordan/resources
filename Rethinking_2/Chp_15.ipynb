{
 "cells": [
  {
   "cell_type": "code",
   "execution_count": 1,
   "metadata": {},
   "outputs": [],
   "source": [
    "import warnings\n",
    "\n",
    "import arviz as az\n",
    "import matplotlib.pyplot as plt\n",
    "import numpy as np\n",
    "import pandas as pd\n",
    "import pymc3 as pm\n",
    "\n",
    "from scipy import stats\n",
    "from theano import tensor as tt\n",
    "\n",
    "from numpy.random import default_rng"
   ]
  },
  {
   "cell_type": "code",
   "execution_count": 2,
   "metadata": {},
   "outputs": [],
   "source": [
    "%config InlineBackend.figure_format = 'retina'\n",
    "warnings.simplefilter(action='ignore', category=(FutureWarning, UserWarning))\n",
    "RANDOM_SEED = 54321\n",
    "np.random.seed(RANDOM_SEED)\n",
    "rng = default_rng(RANDOM_SEED)\n",
    "az.style.use('arviz-darkgrid')\n",
    "az.rcParams[\"stats.hdi_prob\"] = 0.89\n",
    "az.rcParams[\"stats.ic_scale\"] = \"deviance\"\n",
    "az.rcParams[\"stats.information_criterion\"] = \"waic\""
   ]
  },
  {
   "cell_type": "markdown",
   "metadata": {},
   "source": [
    "#### Code 15.1"
   ]
  },
  {
   "cell_type": "code",
   "execution_count": 3,
   "metadata": {},
   "outputs": [
    {
     "data": {
      "text/plain": [
       "0.6716538617064295"
      ]
     },
     "execution_count": 3,
     "metadata": {},
     "output_type": "execute_result"
    }
   ],
   "source": [
    "# Simulate a pancake and return randomly ordered sides\n",
    "def sim_pancake():\n",
    "    pancake = rng.integers(3)\n",
    "    sides = np.array([[1, 1], [1, 0], [0, 0]])[pancake]\n",
    "    return rng.permutation(sides)\n",
    "\n",
    "# Simulate 10,000 pancakes\n",
    "pancakes = np.array([sim_pancake() for i in range(10000)])\n",
    "up = pancakes[:, 0]\n",
    "down = pancakes[:, 1]\n",
    "\n",
    "# Compute proportion 1/1 (BB) out of all 1/1 and 1/0\n",
    "num_11_10 = np.sum(up==1)\n",
    "num_11 = np.sum((up==1) & (down==1))\n",
    "num_11 / num_11_10"
   ]
  },
  {
   "cell_type": "code",
   "execution_count": null,
   "metadata": {},
   "outputs": [],
   "source": []
  }
 ],
 "metadata": {
  "kernelspec": {
   "display_name": "Python 3",
   "language": "python",
   "name": "python3"
  },
  "language_info": {
   "codemirror_mode": {
    "name": "ipython",
    "version": 3
   },
   "file_extension": ".py",
   "mimetype": "text/x-python",
   "name": "python",
   "nbconvert_exporter": "python",
   "pygments_lexer": "ipython3",
   "version": "3.8.2"
  }
 },
 "nbformat": 4,
 "nbformat_minor": 4
}
